{
  "nbformat": 4,
  "nbformat_minor": 0,
  "metadata": {
    "colab": {
      "provenance": []
    },
    "kernelspec": {
      "name": "python3",
      "display_name": "Python 3"
    },
    "language_info": {
      "name": "python"
    }
  },
  "cells": [
    {
      "cell_type": "code",
      "execution_count": 2,
      "metadata": {
        "colab": {
          "base_uri": "https://localhost:8080/"
        },
        "id": "bhNx7JZ6ozTX",
        "outputId": "429797d2-d2fe-4b06-f1d3-9acfe00f1b42"
      },
      "outputs": [
        {
          "output_type": "stream",
          "name": "stdout",
          "text": [
            "1\n",
            "2\n",
            "3\n",
            "4\n",
            "5\n"
          ]
        }
      ],
      "source": [
        "# 1) Print number from 1 to 5 using a while loop.\n",
        "\n",
        "count = 1\n",
        "while count <= 5:\n",
        "    print(count)\n",
        "    count += 1"
      ]
    },
    {
      "cell_type": "code",
      "source": [
        "# 2) Calculate the sum of number from 1 to 10 using a while loop.\n",
        "\n",
        "sum = 0\n",
        "number = 1\n",
        "\n",
        "while number <= 10:\n",
        "    sum += number\n",
        "    number += 1\n",
        "\n",
        "print(f\"The sum of numbers from 1 to 10 is: {sum}\")"
      ],
      "metadata": {
        "colab": {
          "base_uri": "https://localhost:8080/"
        },
        "id": "31K78WT4pQD-",
        "outputId": "9617eb47-7989-41bf-ffb2-0df0d6454542"
      },
      "execution_count": 4,
      "outputs": [
        {
          "output_type": "stream",
          "name": "stdout",
          "text": [
            "The sum of numbers from 1 to 10 is: 55\n"
          ]
        }
      ]
    },
    {
      "cell_type": "code",
      "source": [
        "# 3) Calculate the factorial of a number using a for loop.\n",
        "\n",
        "def factorial(n):\n",
        "    result = 1\n",
        "    for i in range(1, n + 1):\n",
        "        result *= i\n",
        "    return result\n",
        "\n",
        "# Example:\n",
        "number = 5\n",
        "factorial_result = factorial(number)\n",
        "print(f\"The factorial of {number} is {factorial_result}.\")"
      ],
      "metadata": {
        "colab": {
          "base_uri": "https://localhost:8080/"
        },
        "id": "aqhZww93psY9",
        "outputId": "7ef01085-fdc5-4bc3-a5d2-c993543c8b4f"
      },
      "execution_count": 5,
      "outputs": [
        {
          "output_type": "stream",
          "name": "stdout",
          "text": [
            "The factorial of 5 is 120.\n"
          ]
        }
      ]
    },
    {
      "cell_type": "code",
      "source": [
        "# 4) Count the number of vowel in a string using a for loop.\n",
        "\n",
        "def count_vowels(input_string):\n",
        "    vowels = set('aeiou')  # Set of vowels (both lowercase and uppercase)\n",
        "    count = 0\n",
        "\n",
        "    for char in input_string.lower():\n",
        "        if char in vowels:\n",
        "            count += 1\n",
        "\n",
        "    return count\n",
        "\n",
        "# Example:\n",
        "user_input = input(\"Enter a string: \")\n",
        "vowel_count = count_vowels(user_input)\n",
        "print(f\"Number of vowels in the given string is: {vowel_count}\")"
      ],
      "metadata": {
        "colab": {
          "base_uri": "https://localhost:8080/"
        },
        "id": "3rTqfDDxqoPR",
        "outputId": "71c3e9da-2d6f-4b3e-e1c9-ccef09291703"
      },
      "execution_count": 6,
      "outputs": [
        {
          "output_type": "stream",
          "name": "stdout",
          "text": [
            "Enter a string: pwskills\n",
            "Number of vowels in the given string is: 1\n"
          ]
        }
      ]
    },
    {
      "cell_type": "code",
      "source": [
        "# 5) Print a pattern using nested loops.\n",
        "\n",
        "rows = 5\n",
        "\n",
        "for i in range(1, rows + 1):\n",
        "    for j in range(i):\n",
        "        print(\"*\", end=\"\")\n",
        "    print()"
      ],
      "metadata": {
        "colab": {
          "base_uri": "https://localhost:8080/"
        },
        "id": "7rPL-S2Rrc62",
        "outputId": "1c24b1f4-9386-441f-8f6a-07e72570c99b"
      },
      "execution_count": 7,
      "outputs": [
        {
          "output_type": "stream",
          "name": "stdout",
          "text": [
            "*\n",
            "**\n",
            "***\n",
            "****\n",
            "*****\n"
          ]
        }
      ]
    },
    {
      "cell_type": "code",
      "source": [
        "# 6) Generate a multiplication table using nested loops.\n",
        "\n",
        "number = 5\n",
        "\n",
        "print(f\"Multiplication table for {number}:\")\n",
        "\n",
        "for i in range(1, 11):\n",
        "    product = number * i\n",
        "    print(f\"{number} × {i} = {product}\")"
      ],
      "metadata": {
        "colab": {
          "base_uri": "https://localhost:8080/"
        },
        "id": "0pRp2pzxr7Jh",
        "outputId": "26d9432e-6390-4e4a-897e-fbd766edd206"
      },
      "execution_count": 9,
      "outputs": [
        {
          "output_type": "stream",
          "name": "stdout",
          "text": [
            "Multiplication table for 5:\n",
            "5 × 1 = 5\n",
            "5 × 2 = 10\n",
            "5 × 3 = 15\n",
            "5 × 4 = 20\n",
            "5 × 5 = 25\n",
            "5 × 6 = 30\n",
            "5 × 7 = 35\n",
            "5 × 8 = 40\n",
            "5 × 9 = 45\n",
            "5 × 10 = 50\n"
          ]
        }
      ]
    }
  ]
}