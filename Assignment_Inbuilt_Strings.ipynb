{
  "nbformat": 4,
  "nbformat_minor": 0,
  "metadata": {
    "colab": {
      "provenance": []
    },
    "kernelspec": {
      "name": "python3",
      "display_name": "Python 3"
    },
    "language_info": {
      "name": "python"
    }
  },
  "cells": [
    {
      "cell_type": "code",
      "execution_count": 1,
      "metadata": {
        "colab": {
          "base_uri": "https://localhost:8080/"
        },
        "id": "mgE6EO2Fuaw3",
        "outputId": "3bdc5efb-35b0-4a9f-8910-f586915c5a30"
      },
      "outputs": [
        {
          "output_type": "stream",
          "name": "stdout",
          "text": [
            "The length of the string is: 13\n"
          ]
        }
      ],
      "source": [
        "# 1) What is the purpose of the len() function in Python, and how can it be used with strings?\n",
        "\n",
        "'''\n",
        "The len() function in Python serves the purpose of determining the length of an object,\n",
        "which can be a string, list, tuple, or dictionary. Specifically, when used with strings,\n",
        "len() returns the total number of characters in the string.\n",
        "\n",
        "Here are some key points about len():\n",
        "\n",
        "1) General Purpose:\n",
        "   o  len() is a built-in function that helps find the number of items in a data structure.\n",
        "   o  It works with various data types.\n",
        "\n",
        "2) Valid Arguments:\n",
        "   o  You can use len() with:\n",
        "       -  Sequences: Such as strings, bytes, tuples, lists, or ranges.\n",
        "       -  Collections: Such as dictionaries, sets, or frozen sets.\n",
        "\n",
        "3) Attribute Optimization:\n",
        "   o  For built-in and many third-party data types, len() doesn’t need to iterate\n",
        "      through the data structure.\n",
        "   o  The length attribute of a container object stores the length, and len() directly\n",
        "      returns this value.\n",
        "\n",
        "'''\n",
        "\n",
        "# Example:\n",
        "my_string = \"Hello, World!\"\n",
        "string_length = len(my_string)\n",
        "print(f\"The length of the string is: {string_length}\")"
      ]
    },
    {
      "cell_type": "code",
      "source": [
        "# 2) How can you concatenate two or more strings in Python, and can you provide an example of string concatenation?\n",
        "\n",
        "'''\n",
        "Certainly! In Python, you can concatenate two or more strings using the + operator.\n",
        "Let me show you example:\n",
        "\n",
        "Using the + Operator:\n",
        "The + operator concatenates strings by joining them together.\n",
        "'''\n",
        "# Example:\n",
        "first_name = \"John\"\n",
        "last_name = \"Doe\"\n",
        "full_name = first_name + \" \" + last_name\n",
        "print(\"Full name:\", full_name)"
      ],
      "metadata": {
        "colab": {
          "base_uri": "https://localhost:8080/"
        },
        "id": "71dywhlhvw_L",
        "outputId": "04a527c2-0ffc-447a-b310-143b21634ade"
      },
      "execution_count": 3,
      "outputs": [
        {
          "output_type": "stream",
          "name": "stdout",
          "text": [
            "Full name: John Doe\n"
          ]
        }
      ]
    },
    {
      "cell_type": "code",
      "source": [
        "# 3) What is string slicing in Python, and how can you extract a portion of a string using this method?\n",
        "\n",
        "'''\n",
        "String slicing in Python allows you to extract a portion of a string by specifying a range of indices.\n",
        "It’s a powerful way to manipulate strings. Let’s dive into how it works and provide examples:\n",
        "\n",
        "1) Syntax:\n",
        "   o  The general syntax for string slicing is: string[start:end:step]\n",
        "      -  start: The index where the slicing starts (inclusive).\n",
        "      -  end: The index where the slicing stops (exclusive).\n",
        "      -  step: The increment between each index for slicing (optional).\n",
        "\n",
        "2) Positive and Negative Indices:\n",
        "   o  Positive indices count from left to right (starting at 0).\n",
        "   o  Negative indices count from right to left (starting at -1).\n",
        "\n",
        "'''\n",
        "# Examples:\n",
        "\n",
        "#  Basic Slicing:\n",
        "my_string = \"Hello, World!\"\n",
        "substring = my_string[7:12]\n",
        "print(substring)\n",
        "\n",
        "#  Step and Reverse Slicing:\n",
        "my_string = \"Python is amazing\"\n",
        "reversed_string = my_string[::-1]\n",
        "print(reversed_string)\n",
        "\n",
        "#  Skipping Characters:\n",
        "my_string = \"Programming\"\n",
        "every_second_char = my_string[::2]\n",
        "print(every_second_char)\n",
        "\n",
        "#  Negative Indices:\n",
        "my_string = \"Hello, World!\"\n",
        "last_three_chars = my_string[-3:]\n",
        "print(last_three_chars)\n",
        "\n",
        "# If start or end is omitted, it defaults to the beginning or end of the string, respectively."
      ],
      "metadata": {
        "colab": {
          "base_uri": "https://localhost:8080/"
        },
        "id": "sSHGIgj_w8by",
        "outputId": "a1a2f045-ca09-440c-c9de-2a664a252734"
      },
      "execution_count": 5,
      "outputs": [
        {
          "output_type": "stream",
          "name": "stdout",
          "text": [
            "World\n",
            "gnizama si nohtyP\n",
            "Pormig\n",
            "ld!\n"
          ]
        }
      ]
    },
    {
      "cell_type": "code",
      "source": [
        "# 4) How can you change the case of a string in Python, and can you provide examples of both making a string all uppercase and all lowercase?\n",
        "\n",
        "'''\n",
        "In Python, we can change the case of a string using the following methods:\n",
        "'''\n",
        "# Uppercase: To convert a string to uppercase, use the built-in upper() method.\n",
        "original_string = \"Hello, World!\"\n",
        "uppercase_string = original_string.upper()\n",
        "print(\"Uppercase:\", uppercase_string)\n",
        "\n",
        "# Lowercase: To convert a string to lowercase, use the built-in lower() method.\n",
        "original_string = \"Hello, World!\"\n",
        "lowercase_string = original_string.lower()\n",
        "print(\"Lowercase:\", lowercase_string)\n",
        "\n",
        "# Title Case: To capitalize the first letter of each word in a string, use the title() method.\n",
        "original_string = \"python programming is fun\"\n",
        "title_case_string = original_string.title()\n",
        "print(\"Title Case:\", title_case_string)\n",
        "\n",
        "# Swap Case: To swap the case of each character (convert lowercase to uppercase and vice versa), use the swapcase() method.\n",
        "original_string = \"HeLLo, WoRLd!\"\n",
        "swapped_case_string = original_string.swapcase()\n",
        "print(\"Swapped Case:\", swapped_case_string)"
      ],
      "metadata": {
        "colab": {
          "base_uri": "https://localhost:8080/"
        },
        "id": "UNBJDz1VzZat",
        "outputId": "affcd7a1-b356-4cf4-ef5e-7734e08a0668"
      },
      "execution_count": 7,
      "outputs": [
        {
          "output_type": "stream",
          "name": "stdout",
          "text": [
            "Uppercase: HELLO, WORLD!\n",
            "Lowercase: hello, world!\n",
            "Title Case: Python Programming Is Fun\n",
            "Swapped Case: hEllO, wOrlD!\n"
          ]
        }
      ]
    },
    {
      "cell_type": "code",
      "source": [
        "# 5) What does the split() method do in Python, and how can you split a string using a specific delimiter?\n",
        "\n",
        "'''\n",
        "The split() method in Python is used to split a string into a list of substrings based on a specified delimiter.\n",
        "This method takes the delimiter as an argument and returns the list of substrings.\n",
        "Let’s explore different approaches to split a string by a delimiter:\n",
        "'''\n",
        "\n",
        "# Using re.split() Method: This uses regular expressions to split the string.\n",
        "import re\n",
        "data = \"Geeks,for,Geeks\"\n",
        "result = re.split(',', data)\n",
        "print(result)\n",
        "\n",
        "# Using str.strip() Method: We split the string at each comma and then apply strip() to remove leading and trailing whitespaces.\n",
        "data = \"Geeks,for,Geeks\"\n",
        "result = [substring.strip() for substring in data.split(',')]\n",
        "print(result)\n",
        "\n",
        "\n",
        "# Using csv.reader() Method: The csv.reader() method interprets the string as a CSV row and extracts the resulting list.\n",
        "import csv\n",
        "data = \"Geeks,for,Geeks\"\n",
        "result = list(csv.reader([data]))[0]\n",
        "print(result)"
      ],
      "metadata": {
        "colab": {
          "base_uri": "https://localhost:8080/"
        },
        "id": "yYEvEKtu1gTE",
        "outputId": "387b68f2-8053-474d-ee53-9101583bc72a"
      },
      "execution_count": 10,
      "outputs": [
        {
          "output_type": "stream",
          "name": "stdout",
          "text": [
            "['Geeks', 'for', 'Geeks']\n",
            "['Geeks', 'for', 'Geeks']\n",
            "['Geeks', 'for', 'Geeks']\n"
          ]
        }
      ]
    }
  ]
}