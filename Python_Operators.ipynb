{
  "nbformat": 4,
  "nbformat_minor": 0,
  "metadata": {
    "colab": {
      "provenance": []
    },
    "kernelspec": {
      "name": "python3",
      "display_name": "Python 3"
    },
    "language_info": {
      "name": "python"
    }
  },
  "cells": [
    {
      "cell_type": "code",
      "execution_count": 5,
      "metadata": {
        "colab": {
          "base_uri": "https://localhost:8080/"
        },
        "id": "jWSOFOyKtoL1",
        "outputId": "a1ce5be3-e9bf-49bc-e958-3404bfc0dbc6"
      },
      "outputs": [
        {
          "output_type": "stream",
          "name": "stdout",
          "text": [
            "Sum: 15\n",
            "Difference: 5\n",
            "Product: 50\n",
            "Quotient: 2.0\n"
          ]
        }
      ],
      "source": [
        "# Calculate the sum, difference, product, and quotient of two numbers.\n",
        "\n",
        "num1 = 10\n",
        "num2 = 5\n",
        "\n",
        "sum = num1 + num2\n",
        "difference = num1 - num2\n",
        "product = num1 * num2\n",
        "quotient = num1 / num2\n",
        "\n",
        "print(f\"Sum: {sum}\")\n",
        "print(f\"Difference: {difference}\")\n",
        "print(f\"Product: {product}\")\n",
        "print(f\"Quotient: {quotient}\")"
      ]
    },
    {
      "cell_type": "code",
      "source": [
        "# Perform various assignment operations on a variable.\n",
        "\n",
        "x = 10\n",
        "\n",
        "print(f\"Initial value: {x}\")\n",
        "\n",
        "x += 5  # Addition assignment\n",
        "print(f\"Output of addition assignment: {x}\")\n",
        "\n",
        "x -= 2  # Subtraction assignment\n",
        "print(f\"Output of subtraction assignment: {x}\")\n",
        "\n",
        "x *= 3  # Multiplication assignment\n",
        "print(f\"Output of multiplication assignment: {x}\")\n",
        "\n",
        "x /= 4  # Division assignment\n",
        "print(f\"Output of division assignment: {x}\")"
      ],
      "metadata": {
        "colab": {
          "base_uri": "https://localhost:8080/"
        },
        "id": "tx9Cssjhvsbd",
        "outputId": "8cb0e12b-0d85-47e8-eae3-d0c671072551"
      },
      "execution_count": 9,
      "outputs": [
        {
          "output_type": "stream",
          "name": "stdout",
          "text": [
            "Initial value: 10\n",
            "Output of addition assignment: 15\n",
            "Output of subtraction assignment: 13\n",
            "Output of multiplication assignment: 39\n",
            "Output of division assignment: 9.75\n"
          ]
        }
      ]
    },
    {
      "cell_type": "code",
      "source": [
        "# Compare two numbers and print the results\n",
        "\n",
        "num1 = 10\n",
        "num2 = 5\n",
        "\n",
        "if num1 > num2:\n",
        "  print(\"num1 is greater than num2.\")\n",
        "elif num1 < num2:\n",
        "  print(\"num1 is less than num2.\")\n",
        "else:\n",
        "  print(\"num1 is equal to num2.\")"
      ],
      "metadata": {
        "colab": {
          "base_uri": "https://localhost:8080/"
        },
        "id": "Ej9efwrYx8hN",
        "outputId": "f003fffb-2752-4904-e1ad-9f3602951f2e"
      },
      "execution_count": 15,
      "outputs": [
        {
          "output_type": "stream",
          "name": "stdout",
          "text": [
            "num1 is greater than num2.\n"
          ]
        }
      ]
    },
    {
      "cell_type": "code",
      "source": [
        "# Check conditions using logical operators.\n",
        "\n",
        "num1 = 10\n",
        "num2 = 5\n",
        "num3 = 20\n",
        "\n",
        "if num1 > num2 and num1 < num3:\n",
        "  print(\"Condition 1: num1 is greater than num2 and less than num3.\")\n",
        "elif num1 > num2 or num1 < num3:\n",
        "  print(\"Condition 2: Either num1 is greater than num2 or less than num3.\")\n",
        "else:\n",
        "  print(\"Condition 3: Neither condition is true.\")"
      ],
      "metadata": {
        "colab": {
          "base_uri": "https://localhost:8080/"
        },
        "id": "9gYs8kvnzLsV",
        "outputId": "c93b0e2f-32bd-4cf6-9dc7-09b7086953bd"
      },
      "execution_count": 23,
      "outputs": [
        {
          "output_type": "stream",
          "name": "stdout",
          "text": [
            "Condition 1: num1 is greater than num2 and less than num3.\n"
          ]
        }
      ]
    },
    {
      "cell_type": "code",
      "source": [
        "# Check the identity of variables.\n",
        "\n",
        "x = 10\n",
        "y = 10\n",
        "z = \"10\"\n",
        "\n",
        "if x is y:\n",
        "  print(\"x and y are the same object.\")\n",
        "else:\n",
        "  print(\"x and y are not the same object.\")\n",
        "\n",
        "if x is not z:\n",
        "  print(\"x and z are not the same object.\")\n",
        "else:\n",
        "  print(\"x and z are the same object\")"
      ],
      "metadata": {
        "colab": {
          "base_uri": "https://localhost:8080/"
        },
        "id": "wKpqz2nd6Bw7",
        "outputId": "a8586e83-841c-4bc6-f4a6-b4ce312d20ca"
      },
      "execution_count": 24,
      "outputs": [
        {
          "output_type": "stream",
          "name": "stdout",
          "text": [
            "x and y are the same object.\n",
            "x and z are not the same object.\n"
          ]
        }
      ]
    },
    {
      "cell_type": "code",
      "source": [
        "# Perform bitwise operations on any two integers.\n",
        "\n",
        "num1 = 10\n",
        "num2 = 4\n",
        "\n",
        "print(\"num1 & num2:\", num1 & num2) # AND operation\n",
        "print(\"num1 | num2:\", num1 | num2) # OR operation\n",
        "print(\"~num1: \", ~num1) # NOT operation\n",
        "print(\"num1 ^ num2: \", num1 ^ num2) # XOR operation\n",
        "print(\"num1 >> 2: \", num1 >> 2) # right shift operation\n",
        "print(\"num1 << 2: \", num1 << 2) # left shift oepration"
      ],
      "metadata": {
        "colab": {
          "base_uri": "https://localhost:8080/"
        },
        "id": "CUW4OLCi_Oiu",
        "outputId": "ae388c26-cff4-4b3a-9326-344522930f92"
      },
      "execution_count": 36,
      "outputs": [
        {
          "output_type": "stream",
          "name": "stdout",
          "text": [
            "num1 & num2: 0\n",
            "num1 | num2: 14\n",
            "~num1:  -11\n",
            "num1 ^ num2:  14\n",
            "num1 >> 2:  2\n",
            "num1 << 2:  40\n"
          ]
        }
      ]
    },
    {
      "cell_type": "code",
      "source": [
        "# Use unary operators to change the sign of a number.\n",
        "\n",
        "num = 10\n",
        "\n",
        "print(\"Initial value: \", num)\n",
        "num = -num\n",
        "print(\"Value after changing the sign: \", num)"
      ],
      "metadata": {
        "colab": {
          "base_uri": "https://localhost:8080/"
        },
        "id": "PqANA8sqXaOx",
        "outputId": "5933a526-bd2c-4ebe-fc7c-d9dffeb962d0"
      },
      "execution_count": 38,
      "outputs": [
        {
          "output_type": "stream",
          "name": "stdout",
          "text": [
            "Initial value:  10\n",
            "Value after changing the sign:  -10\n"
          ]
        }
      ]
    },
    {
      "cell_type": "code",
      "source": [
        "# Use the ternary operator to assign values based on conditions.\n",
        "\n",
        "condition = True\n",
        "\n",
        "value = \"Condition is True\" if condition else \"Condition is False\"\n",
        "\n",
        "print(value)"
      ],
      "metadata": {
        "colab": {
          "base_uri": "https://localhost:8080/"
        },
        "id": "liavZ9NmeqvS",
        "outputId": "41e593e3-e32b-49bb-d315-e35392c67f11"
      },
      "execution_count": 41,
      "outputs": [
        {
          "output_type": "stream",
          "name": "stdout",
          "text": [
            "Condition is True\n"
          ]
        }
      ]
    }
  ]
}