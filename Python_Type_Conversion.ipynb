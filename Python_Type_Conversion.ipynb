{
  "nbformat": 4,
  "nbformat_minor": 0,
  "metadata": {
    "colab": {
      "provenance": []
    },
    "kernelspec": {
      "name": "python3",
      "display_name": "Python 3"
    },
    "language_info": {
      "name": "python"
    }
  },
  "cells": [
    {
      "cell_type": "code",
      "source": [
        "# Convert a integer to a floating point number.\n",
        "integer = 21\n",
        "floating_point = float(integer)\n",
        "print(floating_point)\n",
        "type(floating_point)"
      ],
      "metadata": {
        "colab": {
          "base_uri": "https://localhost:8080/"
        },
        "id": "Uqou0IG_Tx_t",
        "outputId": "3bbe7680-f931-49d3-ed8e-74013931243f"
      },
      "execution_count": 9,
      "outputs": [
        {
          "output_type": "stream",
          "name": "stdout",
          "text": [
            "21.0\n"
          ]
        },
        {
          "output_type": "execute_result",
          "data": {
            "text/plain": [
              "float"
            ]
          },
          "metadata": {},
          "execution_count": 9
        }
      ]
    },
    {
      "cell_type": "code",
      "source": [
        "# Convert a float to an integer.\n",
        "floating_point = 11.3\n",
        "integer = int(floating_point)\n",
        "print(integer)\n",
        "type(integer)"
      ],
      "metadata": {
        "colab": {
          "base_uri": "https://localhost:8080/"
        },
        "id": "2_gELctJUzGG",
        "outputId": "8972019b-d5da-4cfa-b7e1-8e22a7f9957a"
      },
      "execution_count": 8,
      "outputs": [
        {
          "output_type": "stream",
          "name": "stdout",
          "text": [
            "11\n"
          ]
        },
        {
          "output_type": "execute_result",
          "data": {
            "text/plain": [
              "int"
            ]
          },
          "metadata": {},
          "execution_count": 8
        }
      ]
    },
    {
      "cell_type": "code",
      "source": [
        "# Convert a integer to a string.\n",
        "integer = 31\n",
        "string = str(integer)\n",
        "print(string)\n",
        "type(string)"
      ],
      "metadata": {
        "colab": {
          "base_uri": "https://localhost:8080/"
        },
        "id": "ipN9DBkaVDTQ",
        "outputId": "e3d9c890-9df8-4902-deb8-dc98f6f79c39"
      },
      "execution_count": 7,
      "outputs": [
        {
          "output_type": "stream",
          "name": "stdout",
          "text": [
            "31\n"
          ]
        },
        {
          "output_type": "execute_result",
          "data": {
            "text/plain": [
              "str"
            ]
          },
          "metadata": {},
          "execution_count": 7
        }
      ]
    },
    {
      "cell_type": "code",
      "source": [
        "# Convert a list to a tuple.\n",
        "list_values = [1, 2, 3, 4, 5]\n",
        "tuple_values = tuple(list_values)\n",
        "print(tuple_values)\n",
        "type(tuple_values)"
      ],
      "metadata": {
        "colab": {
          "base_uri": "https://localhost:8080/"
        },
        "id": "ItbE97e1V5Ct",
        "outputId": "097e1196-f788-4fa6-89e4-6c1b56d3f601"
      },
      "execution_count": 10,
      "outputs": [
        {
          "output_type": "stream",
          "name": "stdout",
          "text": [
            "(1, 2, 3, 4, 5)\n"
          ]
        },
        {
          "output_type": "execute_result",
          "data": {
            "text/plain": [
              "tuple"
            ]
          },
          "metadata": {},
          "execution_count": 10
        }
      ]
    },
    {
      "cell_type": "code",
      "source": [
        "# Convert a tuple to a list.\n",
        "tuple_values = (6, 7, 8, 9, 10)\n",
        "list_values = list(tuple_values)\n",
        "print(list_values)\n",
        "type(list_values)"
      ],
      "metadata": {
        "colab": {
          "base_uri": "https://localhost:8080/"
        },
        "id": "SLDcuMSqWjBq",
        "outputId": "db8682f6-9425-48ad-a0cb-a2a05fae81cc"
      },
      "execution_count": 11,
      "outputs": [
        {
          "output_type": "stream",
          "name": "stdout",
          "text": [
            "[6, 7, 8, 9, 10]\n"
          ]
        },
        {
          "output_type": "execute_result",
          "data": {
            "text/plain": [
              "list"
            ]
          },
          "metadata": {},
          "execution_count": 11
        }
      ]
    },
    {
      "cell_type": "code",
      "source": [
        "# Convert a decimal number to binary.\n",
        "decimal_number = 15\n",
        "binary_number = bin(decimal_number)\n",
        "print(binary_number)"
      ],
      "metadata": {
        "colab": {
          "base_uri": "https://localhost:8080/"
        },
        "id": "Z5fMTRWmY3P0",
        "outputId": "60fca197-dab1-4879-c4f4-0cb492a14e49"
      },
      "execution_count": 15,
      "outputs": [
        {
          "output_type": "stream",
          "name": "stdout",
          "text": [
            "0b1111\n"
          ]
        }
      ]
    },
    {
      "cell_type": "code",
      "source": [
        "# Convert a non-zero number to boolean.\n",
        "non_zero_number = 12\n",
        "boolean_value = bool(non_zero_number)\n",
        "print(boolean_value)\n",
        "type(boolean_value)"
      ],
      "metadata": {
        "colab": {
          "base_uri": "https://localhost:8080/"
        },
        "id": "ccg5aYJJZcOd",
        "outputId": "75ee3b90-9147-4ec4-fb05-bdfb0bad0610"
      },
      "execution_count": 26,
      "outputs": [
        {
          "output_type": "stream",
          "name": "stdout",
          "text": [
            "True\n"
          ]
        },
        {
          "output_type": "execute_result",
          "data": {
            "text/plain": [
              "bool"
            ]
          },
          "metadata": {},
          "execution_count": 26
        }
      ]
    }
  ]
}